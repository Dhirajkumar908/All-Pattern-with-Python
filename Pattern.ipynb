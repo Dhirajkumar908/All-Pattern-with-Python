{
 "cells": [
  {
   "cell_type": "markdown",
   "metadata": {},
   "source": [
    "# Pattern (Print all type of pattern)"
   ]
  },
  {
   "cell_type": "code",
   "execution_count": 1,
   "metadata": {},
   "outputs": [],
   "source": [
    "numrow=5"
   ]
  },
  {
   "cell_type": "code",
   "execution_count": 2,
   "metadata": {},
   "outputs": [
    {
     "name": "stdout",
     "output_type": "stream",
     "text": [
      "*\n",
      "**\n",
      "***\n",
      "****\n",
      "*****\n"
     ]
    }
   ],
   "source": [
    "for row in range(1,numrow +1):\n",
    "    for colm in range(1,row+1):\n",
    "        print(\"*\",end=\"\")\n",
    "    print()"
   ]
  },
  {
   "cell_type": "code",
   "execution_count": 3,
   "metadata": {},
   "outputs": [
    {
     "name": "stdout",
     "output_type": "stream",
     "text": [
      "*****\n",
      "****\n",
      "***\n",
      "**\n",
      "*\n"
     ]
    }
   ],
   "source": [
    "for row in range(numrow,0,-1):\n",
    "    for colm in range(1,row+1):\n",
    "        print(\"*\",end=\"\")\n",
    "    print()"
   ]
  },
  {
   "cell_type": "code",
   "execution_count": 4,
   "metadata": {},
   "outputs": [
    {
     "name": "stdout",
     "output_type": "stream",
     "text": [
      "*\n",
      "**\n",
      "***\n",
      "****\n",
      "*****\n",
      "*****\n",
      "****\n",
      "***\n",
      "**\n",
      "*\n"
     ]
    }
   ],
   "source": [
    "for row in range(1,numrow +1):\n",
    "    for colm in range(1,row+1):\n",
    "        print(\"*\",end=\"\")\n",
    "    print()\n",
    "for row in range(numrow,0,-1):\n",
    "    for colm in range(1,row+1):\n",
    "        print(\"*\",end=\"\")\n",
    "    print()"
   ]
  },
  {
   "cell_type": "code",
   "execution_count": 5,
   "metadata": {},
   "outputs": [
    {
     "name": "stdout",
     "output_type": "stream",
     "text": [
      "  * *   * *    \n",
      "*     *     *  \n",
      "*           *  \n",
      "  *       *    \n",
      "    *   *      \n",
      "      *        \n"
     ]
    }
   ],
   "source": [
    "for row in range(6):\n",
    "    for col in range(7):\n",
    "        if (row==0 and col%3 !=0) or (row==1 and col%3==0) or (row-col==2 ) or (row+col==8):\n",
    "            print(\"*\",end=\" \")\n",
    "        else:\n",
    "            print(\" \" ,end=\" \")\n",
    "            \n",
    "    print(\" \")"
   ]
  },
  {
   "cell_type": "code",
   "execution_count": 24,
   "metadata": {},
   "outputs": [
    {
     "name": "stdout",
     "output_type": "stream",
     "text": [
      "  * * *    \n",
      "*          \n",
      "*          \n",
      "  * * *    \n",
      "        *  \n",
      "        *  \n",
      "  * * *    \n"
     ]
    }
   ],
   "source": [
    "for row in range(7):\n",
    "    for col in range(5):\n",
    "        if((row==0 or row==3 or row==6) and (col>0 and col<4)) or (col==0 and (row>0 and row<3)) or (col==4 and (row>3 and row<6)):\n",
    "            print(\"*\",end=\" \")\n",
    "        else:\n",
    "            print(\" \",end=\" \")\n",
    "    print(\" \")"
   ]
  },
  {
   "cell_type": "code",
   "execution_count": 246,
   "metadata": {},
   "outputs": [
    {
     "name": "stdout",
     "output_type": "stream",
     "text": [
      "* * * * *       \n",
      "*         *     \n",
      "*           *   \n",
      "*           *   \n",
      "*         *     \n",
      "* * * * *       \n",
      "#      #\n",
      "##     #\n",
      "# #    #\n",
      "#  #   #\n",
      "#   #  #\n",
      "#    # #\n",
      "#     ##\n",
      "#      #\n"
     ]
    }
   ],
   "source": [
    "        for row in range(6):\n",
    "                for col in range(8):\n",
    "                    if(((row==0 or row==5) and(col<5)) or (row==1 or row==4)and(col==0 or col==5) or ((row==2 or row==3) and(col==0 or col==6))):\n",
    "                        print(\"*\",end=\" \")\n",
    "                    else:\n",
    "                        print(\" \",end=\" \")\n",
    "                print(\"\")\n",
    "\n",
    "        for row in range(8):\n",
    "            for col in range(8):\n",
    "                if((col==0)or(row==col) or (col==7)):\n",
    "                    print(\"#\",end=\"\")\n",
    "                    #row=row+1\n",
    "                    #col=col+1\n",
    "                else:\n",
    "                    print(\"\",end=\" \")\n",
    "            print(\"\")"
   ]
  },
  {
   "cell_type": "code",
   "execution_count": 152,
   "metadata": {},
   "outputs": [
    {
     "name": "stdout",
     "output_type": "stream",
     "text": [
      "      *       \n",
      "      *       \n",
      "      *       \n",
      "* * * * * * * \n",
      "      *       \n",
      "      *       \n",
      "      *       \n"
     ]
    }
   ],
   "source": [
    "for row in range(7):\n",
    "    for col in range(7):\n",
    "        if (((row>0 or row<6) and (col==3)) or ((row==3)and (col>0 or col<7))):\n",
    "            print(\"*\",end=\" \")\n",
    "        else:\n",
    "            print(\"  \",end=\"\")\n",
    "    print(\"\")\n"
   ]
  },
  {
   "cell_type": "code",
   "execution_count": 241,
   "metadata": {},
   "outputs": [
    {
     "name": "stdout",
     "output_type": "stream",
     "text": [
      "#      #\n",
      "##     #\n",
      "# #    #\n",
      "#  #   #\n",
      "#   #  #\n",
      "#    # #\n",
      "#     ##\n",
      "#      #\n"
     ]
    }
   ],
   "source": [
    "for row in range(8):\n",
    "    for col in range(8):\n",
    "        if((col==0)or(row==col) or (col==7)):\n",
    "            print(\"#\",end=\"\")\n",
    "            #row=row+1\n",
    "            #col=col+1\n",
    "        else:\n",
    "            print(\"\",end=\" \")\n",
    "    print(\"\")\n",
    "    "
   ]
  },
  {
   "cell_type": "code",
   "execution_count": 198,
   "metadata": {},
   "outputs": [
    {
     "name": "stdout",
     "output_type": "stream",
     "text": [
      "@@@@@\n",
      "@@@@@\n",
      "@@@@@\n",
      "@@@@@\n",
      "@@@@@\n",
      "@@@@@\n",
      "@@@@@\n",
      "@@@@@\n"
     ]
    }
   ],
   "source": [
    "for row in range(8):\n",
    "    for col in range(5):\n",
    "        if(((col==0 and col==7) or (row>0 or row<8))):\n",
    "            print(\"@\",end=\"\")\n",
    "        else:\n",
    "            print(\"\",end=\"\")\n",
    "    print(\"\")"
   ]
  },
  {
   "cell_type": "code",
   "execution_count": 232,
   "metadata": {},
   "outputs": [
    {
     "name": "stdout",
     "output_type": "stream",
     "text": [
      "   *       \n",
      "  *   *   *      \n",
      " *   *   *   *   *     \n",
      "*   *   *   *   *   *   *    \n",
      " *   *   *   *   *     \n",
      "  *   *   *      \n",
      "   *       \n"
     ]
    }
   ],
   "source": [
    "for row in range(7):\n",
    "    for col in range(7):\n",
    "        if((row==0 and col==3) or (row==1 and (col>1 and col <5)) or (row==2 and(col>0 and col<6)) or (row==3) or (row==4 and(col>0 and col<6)) or(row==5 and (col>1 and col <5)) or (row==6 and col==3) ):\n",
    "            print(\"*\",end=\"   \")\n",
    "        else:\n",
    "            print(\" \",end=\"\")\n",
    "    print(\" \")"
   ]
  },
  {
   "cell_type": "code",
   "execution_count": 230,
   "metadata": {},
   "outputs": [
    {
     "ename": "SyntaxError",
     "evalue": "invalid syntax (<ipython-input-230-f9037702d1fa>, line 3)",
     "output_type": "error",
     "traceback": [
      "\u001b[1;36m  File \u001b[1;32m\"<ipython-input-230-f9037702d1fa>\"\u001b[1;36m, line \u001b[1;32m3\u001b[0m\n\u001b[1;33m    if(len(row%2,col):\u001b[0m\n\u001b[1;37m                     ^\u001b[0m\n\u001b[1;31mSyntaxError\u001b[0m\u001b[1;31m:\u001b[0m invalid syntax\n"
     ]
    }
   ],
   "source": [
    "for row in range(6):\n",
    "    for col in range(6):\n",
    "        if(len():\n",
    "            print(\"*\")"
   ]
  },
  {
   "cell_type": "code",
   "execution_count": 247,
   "metadata": {},
   "outputs": [
    {
     "name": "stdout",
     "output_type": "stream",
     "text": [
      "Rahul\n"
     ]
    }
   ],
   "source": [
    "print(\"Rahul\")"
   ]
  },
  {
   "cell_type": "code",
   "execution_count": 261,
   "metadata": {},
   "outputs": [
    {
     "name": "stdout",
     "output_type": "stream",
     "text": [
      "*   \n",
      "*  *   \n",
      "*  *  *   \n",
      "*  *  *  *   \n",
      "*  *  *  *  *   \n",
      "*  *  *  *  *  *   \n",
      "*  *  *  *  *  *  *   \n",
      "*  *  *  *  *  *  *  *   \n",
      "*  *  *  *  *  *  *  *  *   \n"
     ]
    }
   ],
   "source": [
    "for i in range(1, 10):\n",
    "    print(\"*  \"*i, end=\" \")\n",
    "    \n",
    "    print()"
   ]
  },
  {
   "cell_type": "code",
   "execution_count": 258,
   "metadata": {},
   "outputs": [
    {
     "name": "stdout",
     "output_type": "stream",
     "text": [
      "a a a a a \n"
     ]
    }
   ],
   "source": [
    "print(\"a \"*5)"
   ]
  },
  {
   "cell_type": "code",
   "execution_count": null,
   "metadata": {},
   "outputs": [],
   "source": []
  }
 ],
 "metadata": {
  "kernelspec": {
   "display_name": "Python 3",
   "language": "python",
   "name": "python3"
  },
  "language_info": {
   "codemirror_mode": {
    "name": "ipython",
    "version": 3
   },
   "file_extension": ".py",
   "mimetype": "text/x-python",
   "name": "python",
   "nbconvert_exporter": "python",
   "pygments_lexer": "ipython3",
   "version": "3.7.4"
  }
 },
 "nbformat": 4,
 "nbformat_minor": 2
}
